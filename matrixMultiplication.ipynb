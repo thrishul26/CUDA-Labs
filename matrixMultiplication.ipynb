{
  "nbformat": 4,
  "nbformat_minor": 0,
  "metadata": {
    "colab": {
      "provenance": [],
      "gpuType": "T4",
      "authorship_tag": "ABX9TyMO7LdbiU9A/g7JN4U8uuwu",
      "include_colab_link": true
    },
    "kernelspec": {
      "name": "python3",
      "display_name": "Python 3"
    },
    "language_info": {
      "name": "python"
    },
    "accelerator": "GPU"
  },
  "cells": [
    {
      "cell_type": "markdown",
      "metadata": {
        "id": "view-in-github",
        "colab_type": "text"
      },
      "source": [
        "<a href=\"https://colab.research.google.com/github/thrishul26/CUDA-Labs/blob/main/matrixMultiplication.ipynb\" target=\"_parent\"><img src=\"https://colab.research.google.com/assets/colab-badge.svg\" alt=\"Open In Colab\"/></a>"
      ]
    },
    {
      "cell_type": "code",
      "execution_count": 1,
      "metadata": {
        "colab": {
          "base_uri": "https://localhost:8080/"
        },
        "id": "x__OFNQ-zm6u",
        "outputId": "05f77448-97dc-42f3-ca49-5f4c925b7a53"
      },
      "outputs": [
        {
          "output_type": "stream",
          "name": "stdout",
          "text": [
            "nvcc: NVIDIA (R) Cuda compiler driver\n",
            "Copyright (c) 2005-2023 NVIDIA Corporation\n",
            "Built on Tue_Aug_15_22:02:13_PDT_2023\n",
            "Cuda compilation tools, release 12.2, V12.2.140\n",
            "Build cuda_12.2.r12.2/compiler.33191640_0\n"
          ]
        }
      ],
      "source": [
        "!nvcc --version\n"
      ]
    },
    {
      "cell_type": "code",
      "source": [
        "!pip install git+https://github.com/andreinechaev/nvcc4jupyter.git"
      ],
      "metadata": {
        "colab": {
          "base_uri": "https://localhost:8080/"
        },
        "id": "xX-0gURSztSv",
        "outputId": "2d299743-d464-4a27-b707-54c68052761d"
      },
      "execution_count": 2,
      "outputs": [
        {
          "output_type": "stream",
          "name": "stdout",
          "text": [
            "Collecting git+https://github.com/andreinechaev/nvcc4jupyter.git\n",
            "  Cloning https://github.com/andreinechaev/nvcc4jupyter.git to /tmp/pip-req-build-sz5npy65\n",
            "  Running command git clone --filter=blob:none --quiet https://github.com/andreinechaev/nvcc4jupyter.git /tmp/pip-req-build-sz5npy65\n",
            "  Resolved https://github.com/andreinechaev/nvcc4jupyter.git to commit 5741c522547756ac4bb7a16df32106a15efb8a57\n",
            "  Installing build dependencies ... \u001b[?25l\u001b[?25hdone\n",
            "  Getting requirements to build wheel ... \u001b[?25l\u001b[?25hdone\n",
            "  Preparing metadata (pyproject.toml) ... \u001b[?25l\u001b[?25hdone\n",
            "Building wheels for collected packages: nvcc4jupyter\n",
            "  Building wheel for nvcc4jupyter (pyproject.toml) ... \u001b[?25l\u001b[?25hdone\n",
            "  Created wheel for nvcc4jupyter: filename=nvcc4jupyter-1.2.1-py3-none-any.whl size=10741 sha256=1c43b610d84440f376c57bb0b3d20f87e2433fdb6f06eb98d5fd7c81c461a971\n",
            "  Stored in directory: /tmp/pip-ephem-wheel-cache-vhin_tby/wheels/a8/b9/18/23f8ef71ceb0f63297dd1903aedd067e6243a68ea756d6feea\n",
            "Successfully built nvcc4jupyter\n",
            "Installing collected packages: nvcc4jupyter\n",
            "Successfully installed nvcc4jupyter-1.2.1\n"
          ]
        }
      ]
    },
    {
      "cell_type": "code",
      "source": [
        "pip install nvcc4jupyter"
      ],
      "metadata": {
        "colab": {
          "base_uri": "https://localhost:8080/"
        },
        "id": "gkM-470Sz1rr",
        "outputId": "543a30d9-396f-4a45-e451-ba8a426d84c9"
      },
      "execution_count": 3,
      "outputs": [
        {
          "output_type": "stream",
          "name": "stdout",
          "text": [
            "Requirement already satisfied: nvcc4jupyter in /usr/local/lib/python3.10/dist-packages (1.2.1)\n"
          ]
        }
      ]
    },
    {
      "cell_type": "code",
      "source": [
        "%load_ext nvcc4jupyter\n"
      ],
      "metadata": {
        "colab": {
          "base_uri": "https://localhost:8080/"
        },
        "id": "Z6Z75x96z3PO",
        "outputId": "e6c6909e-4436-489e-bd70-715f1aee25a7"
      },
      "execution_count": 4,
      "outputs": [
        {
          "output_type": "stream",
          "name": "stdout",
          "text": [
            "Detected platform \"Colab\". Running its setup...\n",
            "Source files will be saved in \"/tmp/tmp87mnifvr\".\n"
          ]
        }
      ]
    },
    {
      "cell_type": "markdown",
      "source": [
        "**Using Shared memory**"
      ],
      "metadata": {
        "id": "g6d7kv_I0tcH"
      }
    },
    {
      "cell_type": "code",
      "source": [
        "%%cuda\n",
        "#include <stdio.h>\n",
        "\n",
        "#define N 4\n",
        "\n",
        "__global__ void matrixMul(int *a, int *b, int *c, int n) {\n",
        "    int row = blockIdx.y * blockDim.y + threadIdx.y;\n",
        "    int col = blockIdx.x * blockDim.x + threadIdx.x;\n",
        "\n",
        "    if (row < n && col < n) {\n",
        "        int sum = 0;\n",
        "        for (int i = 0; i < n; ++i) {\n",
        "            sum += a[row * n + i] * b[i * n + col];\n",
        "        }\n",
        "        c[row * n + col] = sum;\n",
        "    }\n",
        "}\n",
        "\n",
        "int main() {\n",
        "    int *h_a, *h_b, *h_c;\n",
        "    int *d_a, *d_b, *d_c;\n",
        "    int size = N * N * sizeof(int);\n",
        "\n",
        "\n",
        "    h_a = (int*)malloc(size);\n",
        "    h_b = (int*)malloc(size);\n",
        "    h_c = (int*)malloc(size);\n",
        "\n",
        "\n",
        "    for (int i = 0; i < N * N; ++i) {\n",
        "        h_a[i] = 1;\n",
        "        h_b[i] = 1;\n",
        "    }\n",
        "\n",
        "\n",
        "    cudaMalloc(&d_a, size);\n",
        "    cudaMalloc(&d_b, size);\n",
        "    cudaMalloc(&d_c, size);\n",
        "\n",
        "\n",
        "    cudaMemcpy(d_a, h_a, size, cudaMemcpyHostToDevice);\n",
        "    cudaMemcpy(d_b, h_b, size, cudaMemcpyHostToDevice);\n",
        "\n",
        "\n",
        "    dim3 dimBlock(32, 32);\n",
        "    dim3 dimGrid((N + dimBlock.x -1) / dimBlock.x, (N + dimBlock.y-1) / dimBlock.y);\n",
        "\n",
        "\n",
        "    matrixMul<<<dimGrid, dimBlock>>>(d_a, d_b, d_c, N);\n",
        "\n",
        "    cudaMemcpy(h_c, d_c, size, cudaMemcpyDeviceToHost);\n",
        "\n",
        "    printf(\"Result Matrix:\\n\");\n",
        "    for (int i = 0; i < N; ++i) {\n",
        "        for (int j = 0; j < N; ++j) {\n",
        "            printf(\"%d\\t\", h_c[i * N + j]);\n",
        "        }\n",
        "        printf(\"\\n\");\n",
        "    }\n",
        "\n",
        "    free(h_a); free(h_b); free(h_c);\n",
        "    cudaFree(d_a); cudaFree(d_b); cudaFree(d_c);\n",
        "\n",
        "    return 0;\n",
        "}\n",
        "\n"
      ],
      "metadata": {
        "colab": {
          "base_uri": "https://localhost:8080/"
        },
        "id": "TnRo4npbz75x",
        "outputId": "0a8ffd55-e583-4d8c-ee9f-3c5e788475af"
      },
      "execution_count": 5,
      "outputs": [
        {
          "output_type": "stream",
          "name": "stdout",
          "text": [
            "Result Matrix:\n",
            "4\t4\t4\t4\t\n",
            "4\t4\t4\t4\t\n",
            "4\t4\t4\t4\t\n",
            "4\t4\t4\t4\t\n",
            "\n"
          ]
        }
      ]
    },
    {
      "cell_type": "markdown",
      "source": [
        "**Without using Shared memory**"
      ],
      "metadata": {
        "id": "04FmJsss0rin"
      }
    },
    {
      "cell_type": "code",
      "source": [
        "%%cuda\n",
        "#include <stdio.h>\n",
        "\n",
        "#define N 32\n",
        "#define TILE_WIDTH 16\n",
        "\n",
        "__global__ void matrixMul(int *a, int *b, int *c, int n) {\n",
        "    __shared__ int tileA[TILE_WIDTH][TILE_WIDTH];\n",
        "    __shared__ int tileB[TILE_WIDTH][TILE_WIDTH];\n",
        "\n",
        "    int bx = blockIdx.x, by = blockIdx.y;\n",
        "    int tx = threadIdx.x, ty = threadIdx.y;\n",
        "    int row = by * TILE_WIDTH + ty;\n",
        "    int col = bx * TILE_WIDTH + tx;\n",
        "\n",
        "    int sum = 0;\n",
        "    for (int t = 0; t < n / TILE_WIDTH; ++t) {\n",
        "        tileA[ty][tx] = a[row * n + t * TILE_WIDTH + tx];\n",
        "        tileB[ty][tx] = b[(t * TILE_WIDTH + ty) * n + col];\n",
        "        __syncthreads();\n",
        "\n",
        "        for (int k = 0; k < TILE_WIDTH; ++k) {\n",
        "            sum += tileA[ty][k] * tileB[k][tx];\n",
        "        }\n",
        "        __syncthreads();\n",
        "    }\n",
        "\n",
        "    c[row * n + col] = sum;\n",
        "}\n",
        "\n",
        "int main() {\n",
        "    int *h_a, *h_b, *h_c;\n",
        "    int *d_a, *d_b, *d_c;\n",
        "    int size = N * N * sizeof(int);\n",
        "\n",
        "    # // Allocate memory on host\n",
        "    h_a = (int*)malloc(size);\n",
        "    h_b = (int*)malloc(size);\n",
        "    h_c = (int*)malloc(size);\n",
        "\n",
        "    # // Initialize matrices on host\n",
        "    for (int i = 0; i < N * N; ++i) {\n",
        "        h_a[i] = 1;\n",
        "        h_b[i] = 1;\n",
        "    }\n",
        "\n",
        "    # // Allocate memory on device\n",
        "    cudaMalloc(&d_a, size);\n",
        "    cudaMalloc(&d_b, size);\n",
        "    cudaMalloc(&d_c, size);\n",
        "\n",
        "    # // Copy matrices from host to device\n",
        "    cudaMemcpy(d_a, h_a, size, cudaMemcpyHostToDevice);\n",
        "    cudaMemcpy(d_b, h_b, size, cudaMemcpyHostToDevice);\n",
        "\n",
        "    # // Define grid and block dimensions\n",
        "    dim3 dimGrid((N + TILE_WIDTH - 1) / TILE_WIDTH, (N + TILE_WIDTH - 1) / TILE_WIDTH);\n",
        "    dim3 dimBlock(TILE_WIDTH, TILE_WIDTH);\n",
        "\n",
        "    # // Launch kernel\n",
        "    matrixMul<<<dimGrid, dimBlock>>>(d_a, d_b, d_c, N);\n",
        "\n",
        "    # // Copy result from device to host\n",
        "    cudaMemcpy(h_c, d_c, size, cudaMemcpyDeviceToHost);\n",
        "\n",
        "    # // Print result\n",
        "    printf(\"Result Matrix:\\n\");\n",
        "    for (int i = 0; i < N; ++i) {\n",
        "        for (int j = 0; j < N; ++j) {\n",
        "            printf(\"%d\\t\", h_c[i * N + j]);\n",
        "        }\n",
        "        printf(\"\\n\");\n",
        "    }\n",
        "\n",
        "    # // Free memory\n",
        "    free(h_a); free(h_b); free(h_c);\n",
        "    cudaFree(d_a); cudaFree(d_b); cudaFree(d_c);\n",
        "\n",
        "    return 0;\n",
        "}\n"
      ],
      "metadata": {
        "colab": {
          "base_uri": "https://localhost:8080/"
        },
        "id": "_UCs5Zm90DRA",
        "outputId": "d6afe188-5bb1-43dd-fb08-dcdaae3ed7d7"
      },
      "execution_count": 6,
      "outputs": [
        {
          "output_type": "stream",
          "name": "stdout",
          "text": [
            "Result Matrix:\n",
            "32\t32\t32\t32\t32\t32\t32\t32\t32\t32\t32\t32\t32\t32\t32\t32\t32\t32\t32\t32\t32\t32\t32\t32\t32\t32\t32\t32\t32\t32\t32\t32\t\n",
            "32\t32\t32\t32\t32\t32\t32\t32\t32\t32\t32\t32\t32\t32\t32\t32\t32\t32\t32\t32\t32\t32\t32\t32\t32\t32\t32\t32\t32\t32\t32\t32\t\n",
            "32\t32\t32\t32\t32\t32\t32\t32\t32\t32\t32\t32\t32\t32\t32\t32\t32\t32\t32\t32\t32\t32\t32\t32\t32\t32\t32\t32\t32\t32\t32\t32\t\n",
            "32\t32\t32\t32\t32\t32\t32\t32\t32\t32\t32\t32\t32\t32\t32\t32\t32\t32\t32\t32\t32\t32\t32\t32\t32\t32\t32\t32\t32\t32\t32\t32\t\n",
            "32\t32\t32\t32\t32\t32\t32\t32\t32\t32\t32\t32\t32\t32\t32\t32\t32\t32\t32\t32\t32\t32\t32\t32\t32\t32\t32\t32\t32\t32\t32\t32\t\n",
            "32\t32\t32\t32\t32\t32\t32\t32\t32\t32\t32\t32\t32\t32\t32\t32\t32\t32\t32\t32\t32\t32\t32\t32\t32\t32\t32\t32\t32\t32\t32\t32\t\n",
            "32\t32\t32\t32\t32\t32\t32\t32\t32\t32\t32\t32\t32\t32\t32\t32\t32\t32\t32\t32\t32\t32\t32\t32\t32\t32\t32\t32\t32\t32\t32\t32\t\n",
            "32\t32\t32\t32\t32\t32\t32\t32\t32\t32\t32\t32\t32\t32\t32\t32\t32\t32\t32\t32\t32\t32\t32\t32\t32\t32\t32\t32\t32\t32\t32\t32\t\n",
            "32\t32\t32\t32\t32\t32\t32\t32\t32\t32\t32\t32\t32\t32\t32\t32\t32\t32\t32\t32\t32\t32\t32\t32\t32\t32\t32\t32\t32\t32\t32\t32\t\n",
            "32\t32\t32\t32\t32\t32\t32\t32\t32\t32\t32\t32\t32\t32\t32\t32\t32\t32\t32\t32\t32\t32\t32\t32\t32\t32\t32\t32\t32\t32\t32\t32\t\n",
            "32\t32\t32\t32\t32\t32\t32\t32\t32\t32\t32\t32\t32\t32\t32\t32\t32\t32\t32\t32\t32\t32\t32\t32\t32\t32\t32\t32\t32\t32\t32\t32\t\n",
            "32\t32\t32\t32\t32\t32\t32\t32\t32\t32\t32\t32\t32\t32\t32\t32\t32\t32\t32\t32\t32\t32\t32\t32\t32\t32\t32\t32\t32\t32\t32\t32\t\n",
            "32\t32\t32\t32\t32\t32\t32\t32\t32\t32\t32\t32\t32\t32\t32\t32\t32\t32\t32\t32\t32\t32\t32\t32\t32\t32\t32\t32\t32\t32\t32\t32\t\n",
            "32\t32\t32\t32\t32\t32\t32\t32\t32\t32\t32\t32\t32\t32\t32\t32\t32\t32\t32\t32\t32\t32\t32\t32\t32\t32\t32\t32\t32\t32\t32\t32\t\n",
            "32\t32\t32\t32\t32\t32\t32\t32\t32\t32\t32\t32\t32\t32\t32\t32\t32\t32\t32\t32\t32\t32\t32\t32\t32\t32\t32\t32\t32\t32\t32\t32\t\n",
            "32\t32\t32\t32\t32\t32\t32\t32\t32\t32\t32\t32\t32\t32\t32\t32\t32\t32\t32\t32\t32\t32\t32\t32\t32\t32\t32\t32\t32\t32\t32\t32\t\n",
            "32\t32\t32\t32\t32\t32\t32\t32\t32\t32\t32\t32\t32\t32\t32\t32\t32\t32\t32\t32\t32\t32\t32\t32\t32\t32\t32\t32\t32\t32\t32\t32\t\n",
            "32\t32\t32\t32\t32\t32\t32\t32\t32\t32\t32\t32\t32\t32\t32\t32\t32\t32\t32\t32\t32\t32\t32\t32\t32\t32\t32\t32\t32\t32\t32\t32\t\n",
            "32\t32\t32\t32\t32\t32\t32\t32\t32\t32\t32\t32\t32\t32\t32\t32\t32\t32\t32\t32\t32\t32\t32\t32\t32\t32\t32\t32\t32\t32\t32\t32\t\n",
            "32\t32\t32\t32\t32\t32\t32\t32\t32\t32\t32\t32\t32\t32\t32\t32\t32\t32\t32\t32\t32\t32\t32\t32\t32\t32\t32\t32\t32\t32\t32\t32\t\n",
            "32\t32\t32\t32\t32\t32\t32\t32\t32\t32\t32\t32\t32\t32\t32\t32\t32\t32\t32\t32\t32\t32\t32\t32\t32\t32\t32\t32\t32\t32\t32\t32\t\n",
            "32\t32\t32\t32\t32\t32\t32\t32\t32\t32\t32\t32\t32\t32\t32\t32\t32\t32\t32\t32\t32\t32\t32\t32\t32\t32\t32\t32\t32\t32\t32\t32\t\n",
            "32\t32\t32\t32\t32\t32\t32\t32\t32\t32\t32\t32\t32\t32\t32\t32\t32\t32\t32\t32\t32\t32\t32\t32\t32\t32\t32\t32\t32\t32\t32\t32\t\n",
            "32\t32\t32\t32\t32\t32\t32\t32\t32\t32\t32\t32\t32\t32\t32\t32\t32\t32\t32\t32\t32\t32\t32\t32\t32\t32\t32\t32\t32\t32\t32\t32\t\n",
            "32\t32\t32\t32\t32\t32\t32\t32\t32\t32\t32\t32\t32\t32\t32\t32\t32\t32\t32\t32\t32\t32\t32\t32\t32\t32\t32\t32\t32\t32\t32\t32\t\n",
            "32\t32\t32\t32\t32\t32\t32\t32\t32\t32\t32\t32\t32\t32\t32\t32\t32\t32\t32\t32\t32\t32\t32\t32\t32\t32\t32\t32\t32\t32\t32\t32\t\n",
            "32\t32\t32\t32\t32\t32\t32\t32\t32\t32\t32\t32\t32\t32\t32\t32\t32\t32\t32\t32\t32\t32\t32\t32\t32\t32\t32\t32\t32\t32\t32\t32\t\n",
            "32\t32\t32\t32\t32\t32\t32\t32\t32\t32\t32\t32\t32\t32\t32\t32\t32\t32\t32\t32\t32\t32\t32\t32\t32\t32\t32\t32\t32\t32\t32\t32\t\n",
            "32\t32\t32\t32\t32\t32\t32\t32\t32\t32\t32\t32\t32\t32\t32\t32\t32\t32\t32\t32\t32\t32\t32\t32\t32\t32\t32\t32\t32\t32\t32\t32\t\n",
            "32\t32\t32\t32\t32\t32\t32\t32\t32\t32\t32\t32\t32\t32\t32\t32\t32\t32\t32\t32\t32\t32\t32\t32\t32\t32\t32\t32\t32\t32\t32\t32\t\n",
            "32\t32\t32\t32\t32\t32\t32\t32\t32\t32\t32\t32\t32\t32\t32\t32\t32\t32\t32\t32\t32\t32\t32\t32\t32\t32\t32\t32\t32\t32\t32\t32\t\n",
            "32\t32\t32\t32\t32\t32\t32\t32\t32\t32\t32\t32\t32\t32\t32\t32\t32\t32\t32\t32\t32\t32\t32\t32\t32\t32\t32\t32\t32\t32\t32\t32\t\n",
            "\n"
          ]
        }
      ]
    }
  ]
}